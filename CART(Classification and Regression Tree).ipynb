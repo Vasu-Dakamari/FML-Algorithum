{
 "cells": [
  {
   "cell_type": "code",
   "execution_count": 1,
   "id": "3e11c868",
   "metadata": {},
   "outputs": [],
   "source": [
    "'''Demonstrate the working of CART Algorithm Use play tennis data set for buliding the decision tree and apply\n",
    "this knowledge to classify a new sample'''\n",
    "\n",
    "import numpy as np\n",
    "import pandas as pd\n",
    "import os\n",
    "import matplotlib.pyplot as plt"
   ]
  },
  {
   "cell_type": "code",
   "execution_count": 2,
   "id": "d0c50862",
   "metadata": {},
   "outputs": [
    {
     "name": "stdout",
     "output_type": "stream",
     "text": [
      "Index(['outlook', 'temp', 'humidity', 'windy', 'play'], dtype='object')\n"
     ]
    }
   ],
   "source": [
    "df = pd.read_csv(\"tennis.csv\")\n",
    "print(df.keys())\n",
    "attribute_name = (\"outlook\", \"temp\", \"humidity\", \"windy\", \"play\")"
   ]
  },
  {
   "cell_type": "code",
   "execution_count": 3,
   "id": "98cdab23",
   "metadata": {},
   "outputs": [
    {
     "name": "stdout",
     "output_type": "stream",
     "text": [
      "No.of samples in each class is: \n",
      "outlook   temp  humidity  windy  play\n",
      "overcast  cool  normal    True   yes     1\n",
      "          hot   high      False  yes     1\n",
      "                normal    False  yes     1\n",
      "          mild  high      True   yes     1\n",
      "rainy     cool  normal    False  yes     1\n",
      "                          True   no      1\n",
      "          mild  high      False  yes     1\n",
      "                          True   no      1\n",
      "                normal    False  yes     1\n",
      "sunny     cool  normal    False  yes     1\n",
      "          hot   high      False  no      1\n",
      "                          True   no      1\n",
      "          mild  high      False  no      1\n",
      "                normal    True   yes     1\n",
      "dtype: int64\n"
     ]
    }
   ],
   "source": [
    "#step1 calculate gini(d)\n",
    "def gini_impurity(value_counts):\n",
    "    n = value_counts.sum()\n",
    "    p_sum = 0\n",
    "    for key in value_counts.keys():\n",
    "        p_sum = p_sum + (value_counts[key]/n) * (value_counts[key]/n)\n",
    "    gini = 1 - p_sum\n",
    "    return gini\n",
    "class_value_counts = df.value_counts()\n",
    "print(f\"No.of samples in each class is: \\n{class_value_counts}\")\n",
    "\n",
    "gini_class = gini_impurity(class_value_counts)"
   ]
  },
  {
   "cell_type": "code",
   "execution_count": 4,
   "id": "0f5e6a16",
   "metadata": {},
   "outputs": [
    {
     "name": "stdout",
     "output_type": "stream",
     "text": [
      "Gini for outlook is 0.286\n",
      "Gini for temp is 0.357\n",
      "Gini for humidity is 0.429\n",
      "Gini for windy is 0.500\n",
      "Gini for play is 0.571\n"
     ]
    }
   ],
   "source": [
    "#step 2 \n",
    "#Calculating gini impurity for the attributes \n",
    "def gini_split_a(attribute_name):\n",
    "    attribute_values = df[attribute_name].value_counts()\n",
    "    gini_A = 0\n",
    "    for key in attribute_values.keys():\n",
    "        df_k = df[df[attribute_name] == key].value_counts()\n",
    "        n_k = attribute_values[key]\n",
    "        n = df.shape[0]\n",
    "        gini_A += ((n_k/n) * gini_impurity(df_k))\n",
    "        return gini_A\n",
    "\n",
    "gini_attribute = {}\n",
    "for key in attribute_name:\n",
    "    gini_attribute[key] = gini_split_a(key)\n",
    "    print(f'Gini for {key} is {gini_attribute[key]:.3f}')"
   ]
  },
  {
   "cell_type": "code",
   "execution_count": 5,
   "id": "a6faefa8",
   "metadata": {},
   "outputs": [
    {
     "name": "stdout",
     "output_type": "stream",
     "text": [
      "The min value of the gini Impurity : 0.286\n",
      "The max value of the gini Gain : 0.714\n",
      "The selected attribute is:  humidity\n",
      "\n",
      "Gini Impurity of the class is: 0.929\n"
     ]
    }
   ],
   "source": [
    "#step 3\n",
    "min_value = min(gini_attribute.values())\n",
    "print(\"The min value of the gini Impurity : {0:.3}\".format(min_value))\n",
    "print(\"The max value of the gini Gain : {0:.3}\".format(1-min_value))\n",
    "\n",
    "selected_attribute = min(gini_attribute.keys())\n",
    "print(\"The selected attribute is: \",selected_attribute)\n",
    "print(f\"\\nGini Impurity of the class is: {gini_class:.3f}\")"
   ]
  },
  {
   "cell_type": "code",
   "execution_count": null,
   "id": "76285f2a",
   "metadata": {},
   "outputs": [],
   "source": []
  }
 ],
 "metadata": {
  "kernelspec": {
   "display_name": "Python 3 (ipykernel)",
   "language": "python",
   "name": "python3"
  },
  "language_info": {
   "codemirror_mode": {
    "name": "ipython",
    "version": 3
   },
   "file_extension": ".py",
   "mimetype": "text/x-python",
   "name": "python",
   "nbconvert_exporter": "python",
   "pygments_lexer": "ipython3",
   "version": "3.10.4"
  }
 },
 "nbformat": 4,
 "nbformat_minor": 5
}
