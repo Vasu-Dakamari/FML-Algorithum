{
 "cells": [
  {
   "cell_type": "code",
   "execution_count": 1,
   "id": "3c9be4af",
   "metadata": {},
   "outputs": [
    {
     "data": {
      "text/plain": [
       "'\\na. Desing a simple Linear regression model by considering whether to wear a jacket or not depending on the weather using th\\ndataset below\\n\\nconsider the following sample data to observe the relationship by applying linear regression model\\n'"
      ]
     },
     "execution_count": 1,
     "metadata": {},
     "output_type": "execute_result"
    }
   ],
   "source": [
    "'''\n",
    "a. Desing a simple Linear regression model by considering whether to wear a jacket or not depending on the weather using th\n",
    "dataset below\n",
    "\n",
    "consider the following sample data to observe the relationship by applying linear regression model\n",
    "'''"
   ]
  },
  {
   "cell_type": "code",
   "execution_count": 2,
   "id": "d2ac7a7c",
   "metadata": {},
   "outputs": [],
   "source": [
    "from random import randint\n",
    "\n",
    "train_set_limit = 1000\n",
    "train_set_count = 100\n",
    "\n",
    "train_input = []\n",
    "train_output = []\n",
    "for i in range(train_set_count):\n",
    "    a = randint(0, train_set_limit)\n",
    "    b = randint(0, train_set_limit)\n",
    "    c = randint(0, train_set_limit)\n",
    "    op = a + 2 * b + 3 * c\n",
    "    train_input.append([a,b,c])\n",
    "    train_output.append(op)"
   ]
  },
  {
   "cell_type": "code",
   "execution_count": 3,
   "id": "3a2d1257",
   "metadata": {},
   "outputs": [
    {
     "data": {
      "text/plain": [
       "LinearRegression(n_jobs=-1)"
      ]
     },
     "execution_count": 3,
     "metadata": {},
     "output_type": "execute_result"
    }
   ],
   "source": [
    "from sklearn.linear_model import LinearRegression\n",
    "\n",
    "predictor = LinearRegression(n_jobs = -1)\n",
    "predictor.fit(X = train_input, y = train_output)\n"
   ]
  },
  {
   "cell_type": "code",
   "execution_count": 4,
   "id": "2358dd79",
   "metadata": {},
   "outputs": [
    {
     "name": "stdout",
     "output_type": "stream",
     "text": [
      "Outcome : [140.]\n",
      " Coefficients : [1. 2. 3.]\n"
     ]
    }
   ],
   "source": [
    "X = [[10,20,30]]\n",
    "X_test = [[10,20,30]]\n",
    "outcome = predictor.predict(X = X_test)\n",
    "coefficients = predictor.coef_\n",
    "\n",
    "print(\"Outcome : {}\\n Coefficients : {}\".format(outcome, coefficients))"
   ]
  },
  {
   "cell_type": "code",
   "execution_count": null,
   "id": "20817d58",
   "metadata": {},
   "outputs": [],
   "source": []
  }
 ],
 "metadata": {
  "kernelspec": {
   "display_name": "Python 3 (ipykernel)",
   "language": "python",
   "name": "python3"
  },
  "language_info": {
   "codemirror_mode": {
    "name": "ipython",
    "version": 3
   },
   "file_extension": ".py",
   "mimetype": "text/x-python",
   "name": "python",
   "nbconvert_exporter": "python",
   "pygments_lexer": "ipython3",
   "version": "3.10.4"
  }
 },
 "nbformat": 4,
 "nbformat_minor": 5
}
