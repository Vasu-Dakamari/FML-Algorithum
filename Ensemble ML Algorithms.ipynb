{
 "cells": [
  {
   "cell_type": "code",
   "execution_count": 1,
   "id": "aec00e28",
   "metadata": {},
   "outputs": [],
   "source": [
    "\"\"\"\n",
    "Demonstrate an ensemble ml algorithm using bagging, boosting and voting models on Pima Indians dataset\n",
    "\n",
    "Ensembles can give u a boost in accuracy in your dataset \n",
    "\n",
    "Bagging: Building multiple models from differnt subsamples of training dataset  \n",
    "\n",
    "Boosting: Building multiple models each of which learns to fix the prediction errors of a prior model in the chain.\n",
    "\n",
    "VOting: Building multiple models and simple statistics are used to combine predictions\n",
    "\n",
    "a standard classification problem used to demonstrate each ensemble algorithm is the Pima Indians dataset .\n",
    "It is a Binary classifi\n",
    "\n",
    "\"\"\"\n",
    "\n",
    "import pandas as pd\n",
    "import numpy as np\n",
    "import matplotlib.pyplot as plt\n",
    "import seaborn as sns\n",
    "\n",
    "%matplotlib inline\n",
    "\n",
    "sns.set_style(\"whitegrid\")\n",
    "plt.style.use(\"fivethirtyeight\")\n"
   ]
  },
  {
   "cell_type": "code",
   "execution_count": 3,
   "id": "c5611494",
   "metadata": {},
   "outputs": [
    {
     "name": "stdout",
     "output_type": "stream",
     "text": [
      "<class 'pandas.core.frame.DataFrame'>\n",
      "RangeIndex: 768 entries, 0 to 767\n",
      "Data columns (total 9 columns):\n",
      " #   Column                    Non-Null Count  Dtype  \n",
      "---  ------                    --------------  -----  \n",
      " 0   Pregnancies               768 non-null    int64  \n",
      " 1   Glucose                   768 non-null    int64  \n",
      " 2   BloodPressure             768 non-null    int64  \n",
      " 3   SkinThickness             768 non-null    int64  \n",
      " 4   Insulin                   768 non-null    int64  \n",
      " 5   BMI                       768 non-null    float64\n",
      " 6   DiabetesPedigreeFunction  768 non-null    float64\n",
      " 7   Age                       768 non-null    int64  \n",
      " 8   Outcome                   768 non-null    int64  \n",
      "dtypes: float64(2), int64(7)\n",
      "memory usage: 54.1 KB\n"
     ]
    }
   ],
   "source": [
    "#loading the data\n",
    "df = pd.read_csv(\"D:\\machinelearning\\diabetes.csv\")\n",
    "df.head()\n",
    "df.info()"
   ]
  },
  {
   "cell_type": "code",
   "execution_count": 4,
   "id": "ab8a3259",
   "metadata": {},
   "outputs": [
    {
     "data": {
      "text/plain": [
       "Pregnancies                 0\n",
       "Glucose                     0\n",
       "BloodPressure               0\n",
       "SkinThickness               0\n",
       "Insulin                     0\n",
       "BMI                         0\n",
       "DiabetesPedigreeFunction    0\n",
       "Age                         0\n",
       "Outcome                     0\n",
       "dtype: int64"
      ]
     },
     "execution_count": 4,
     "metadata": {},
     "output_type": "execute_result"
    }
   ],
   "source": [
    "df.isnull().sum()"
   ]
  },
  {
   "cell_type": "code",
   "execution_count": 5,
   "id": "28bc03a0",
   "metadata": {},
   "outputs": [
    {
     "data": {
      "text/plain": [
       "<bound method NDFrame.describe of      Pregnancies  Glucose  BloodPressure  SkinThickness  Insulin   BMI  \\\n",
       "0              6      148             72             35        0 33.60   \n",
       "1              1       85             66             29        0 26.60   \n",
       "2              8      183             64              0        0 23.30   \n",
       "3              1       89             66             23       94 28.10   \n",
       "4              0      137             40             35      168 43.10   \n",
       "..           ...      ...            ...            ...      ...   ...   \n",
       "763           10      101             76             48      180 32.90   \n",
       "764            2      122             70             27        0 36.80   \n",
       "765            5      121             72             23      112 26.20   \n",
       "766            1      126             60              0        0 30.10   \n",
       "767            1       93             70             31        0 30.40   \n",
       "\n",
       "     DiabetesPedigreeFunction  Age  Outcome  \n",
       "0                        0.63   50        1  \n",
       "1                        0.35   31        0  \n",
       "2                        0.67   32        1  \n",
       "3                        0.17   21        0  \n",
       "4                        2.29   33        1  \n",
       "..                        ...  ...      ...  \n",
       "763                      0.17   63        0  \n",
       "764                      0.34   27        0  \n",
       "765                      0.24   30        0  \n",
       "766                      0.35   47        1  \n",
       "767                      0.32   23        0  \n",
       "\n",
       "[768 rows x 9 columns]>"
      ]
     },
     "execution_count": 5,
     "metadata": {},
     "output_type": "execute_result"
    }
   ],
   "source": [
    "pd.set_option(\"display.float_format\",\"{:.2f}\".format)\n",
    "df.describe"
   ]
  },
  {
   "cell_type": "code",
   "execution_count": 6,
   "id": "64d52f5a",
   "metadata": {},
   "outputs": [
    {
     "name": "stdout",
     "output_type": "stream",
     "text": [
      "==================\n",
      "Pregnancies:[ 6  1  8  0  5  3 10  2  4  7  9 11 13 15 17 12 14]\n",
      "==================\n",
      "Glucose:[148  85 183  89 137 116  78 115 197 125 110 168 139 189 166 100 118 107\n",
      " 103 126  99 196 119 143 147  97 145 117 109 158  88  92 122 138 102  90\n",
      " 111 180 133 106 171 159 146  71 105 101 176 150  73 187  84  44 141 114\n",
      "  95 129  79   0  62 131 112 113  74  83 136  80 123  81 134 142 144  93\n",
      " 163 151  96 155  76 160 124 162 132 120 173 170 128 108 154  57 156 153\n",
      " 188 152 104  87  75 179 130 194 181 135 184 140 177 164  91 165  86 193\n",
      " 191 161 167  77 182 157 178  61  98 127  82  72 172  94 175 195  68 186\n",
      " 198 121  67 174 199  56 169 149  65 190]\n",
      "==================\n",
      "BloodPressure:[ 72  66  64  40  74  50   0  70  96  92  80  60  84  30  88  90  94  76\n",
      "  82  75  58  78  68 110  56  62  85  86  48  44  65 108  55 122  54  52\n",
      "  98 104  95  46 102 100  61  24  38 106 114]\n",
      "==================\n",
      "SkinThickness:[35 29  0 23 32 45 19 47 38 30 41 33 26 15 36 11 31 37 42 25 18 24 39 27\n",
      " 21 34 10 60 13 20 22 28 54 40 51 56 14 17 50 44 12 46 16  7 52 43 48  8\n",
      " 49 63 99]\n",
      "==================\n",
      "Insulin:[  0  94 168  88 543 846 175 230  83  96 235 146 115 140 110 245  54 192\n",
      " 207  70 240  82  36  23 300 342 304 142 128  38 100  90 270  71 125 176\n",
      "  48  64 228  76 220  40 152  18 135 495  37  51  99 145 225  49  50  92\n",
      " 325  63 284 119 204 155 485  53 114 105 285 156  78 130  55  58 160 210\n",
      " 318  44 190 280  87 271 129 120 478  56  32 744 370  45 194 680 402 258\n",
      " 375 150  67  57 116 278 122 545  75  74 182 360 215 184  42 132 148 180\n",
      " 205  85 231  29  68  52 255 171  73 108  43 167 249 293  66 465  89 158\n",
      "  84  72  59  81 196 415 275 165 579 310  61 474 170 277  60  14  95 237\n",
      " 191 328 250 480 265 193  79  86 326 188 106  65 166 274  77 126 330 600\n",
      " 185  25  41 272 321 144  15 183  91  46 440 159 540 200 335 387  22 291\n",
      " 392 178 127 510  16 112]\n",
      "==================\n",
      "BMI:[33.6 26.6 23.3 28.1 43.1 25.6 31.  35.3 30.5  0.  37.6 38.  27.1 30.1\n",
      " 25.8 30.  45.8 29.6 43.3 34.6 39.3 35.4 39.8 29.  36.6 31.1 39.4 23.2\n",
      " 22.2 34.1 36.  31.6 24.8 19.9 27.6 24.  33.2 32.9 38.2 37.1 34.  40.2\n",
      " 22.7 45.4 27.4 42.  29.7 28.  39.1 19.4 24.2 24.4 33.7 34.7 23.  37.7\n",
      " 46.8 40.5 41.5 25.  25.4 32.8 32.5 42.7 19.6 28.9 28.6 43.4 35.1 32.\n",
      " 24.7 32.6 43.2 22.4 29.3 24.6 48.8 32.4 38.5 26.5 19.1 46.7 23.8 33.9\n",
      " 20.4 28.7 49.7 39.  26.1 22.5 39.6 29.5 34.3 37.4 33.3 31.2 28.2 53.2\n",
      " 34.2 26.8 55.  42.9 34.5 27.9 38.3 21.1 33.8 30.8 36.9 39.5 27.3 21.9\n",
      " 40.6 47.9 50.  25.2 40.9 37.2 44.2 29.9 31.9 28.4 43.5 32.7 67.1 45.\n",
      " 34.9 27.7 35.9 22.6 33.1 30.4 52.3 24.3 22.9 34.8 30.9 40.1 23.9 37.5\n",
      " 35.5 42.8 42.6 41.8 35.8 37.8 28.8 23.6 35.7 36.7 45.2 44.  46.2 35.\n",
      " 43.6 44.1 18.4 29.2 25.9 32.1 36.3 40.  25.1 27.5 45.6 27.8 24.9 25.3\n",
      " 37.9 27.  26.  38.7 20.8 36.1 30.7 32.3 52.9 21.  39.7 25.5 26.2 19.3\n",
      " 38.1 23.5 45.5 23.1 39.9 36.8 21.8 41.  42.2 34.4 27.2 36.5 29.8 39.2\n",
      " 38.4 36.2 48.3 20.  22.3 45.7 23.7 22.1 42.1 42.4 18.2 26.4 45.3 37.\n",
      " 24.5 32.2 59.4 21.2 26.7 30.2 46.1 41.3 38.8 35.2 42.3 40.7 46.5 33.5\n",
      " 37.3 30.3 26.3 21.7 36.4 28.5 26.9 38.6 31.3 19.5 20.1 40.8 23.4 28.3\n",
      " 38.9 57.3 35.6 49.6 44.6 24.1 44.5 41.2 49.3 46.3]\n",
      "==================\n",
      "DiabetesPedigreeFunction:[0.627 0.351 0.672 0.167 2.288 0.201 0.248 0.134 0.158 0.232 0.191 0.537\n",
      " 1.441 0.398 0.587 0.484 0.551 0.254 0.183 0.529 0.704 0.388 0.451 0.263\n",
      " 0.205 0.257 0.487 0.245 0.337 0.546 0.851 0.267 0.188 0.512 0.966 0.42\n",
      " 0.665 0.503 1.39  0.271 0.696 0.235 0.721 0.294 1.893 0.564 0.586 0.344\n",
      " 0.305 0.491 0.526 0.342 0.467 0.718 0.962 1.781 0.173 0.304 0.27  0.699\n",
      " 0.258 0.203 0.855 0.845 0.334 0.189 0.867 0.411 0.583 0.231 0.396 0.14\n",
      " 0.391 0.37  0.307 0.102 0.767 0.237 0.227 0.698 0.178 0.324 0.153 0.165\n",
      " 0.443 0.261 0.277 0.761 0.255 0.13  0.323 0.356 0.325 1.222 0.179 0.262\n",
      " 0.283 0.93  0.801 0.207 0.287 0.336 0.247 0.199 0.543 0.192 0.588 0.539\n",
      " 0.22  0.654 0.223 0.759 0.26  0.404 0.186 0.278 0.496 0.452 0.403 0.741\n",
      " 0.361 1.114 0.457 0.647 0.088 0.597 0.532 0.703 0.159 0.268 0.286 0.318\n",
      " 0.272 0.572 0.096 1.4   0.218 0.085 0.399 0.432 1.189 0.687 0.137 0.637\n",
      " 0.833 0.229 0.817 0.204 0.368 0.743 0.722 0.256 0.709 0.471 0.495 0.18\n",
      " 0.542 0.773 0.678 0.719 0.382 0.319 0.19  0.956 0.084 0.725 0.299 0.244\n",
      " 0.745 0.615 1.321 0.64  0.142 0.374 0.383 0.578 0.136 0.395 0.187 0.905\n",
      " 0.15  0.874 0.236 0.787 0.407 0.605 0.151 0.289 0.355 0.29  0.375 0.164\n",
      " 0.431 0.742 0.514 0.464 1.224 1.072 0.805 0.209 0.666 0.101 0.198 0.652\n",
      " 2.329 0.089 0.645 0.238 0.394 0.293 0.479 0.686 0.831 0.582 0.446 0.402\n",
      " 1.318 0.329 1.213 0.427 0.282 0.143 0.38  0.284 0.249 0.926 0.557 0.092\n",
      " 0.655 1.353 0.612 0.2   0.226 0.997 0.933 1.101 0.078 0.24  1.136 0.128\n",
      " 0.422 0.251 0.677 0.296 0.454 0.744 0.881 0.28  0.259 0.619 0.808 0.34\n",
      " 0.434 0.757 0.613 0.692 0.52  0.412 0.84  0.839 0.156 0.215 0.326 1.391\n",
      " 0.875 0.313 0.433 0.626 1.127 0.315 0.345 0.129 0.527 0.197 0.731 0.148\n",
      " 0.123 0.127 0.122 1.476 0.166 0.932 0.343 0.893 0.331 0.472 0.673 0.389\n",
      " 0.485 0.349 0.279 0.346 0.252 0.243 0.58  0.559 0.302 0.569 0.378 0.385\n",
      " 0.499 0.306 0.234 2.137 1.731 0.545 0.225 0.816 0.528 0.509 1.021 0.821\n",
      " 0.947 1.268 0.221 0.66  0.239 0.949 0.444 0.463 0.803 1.6   0.944 0.196\n",
      " 0.241 0.161 0.135 0.376 1.191 0.702 0.674 1.076 0.534 1.095 0.554 0.624\n",
      " 0.219 0.507 0.561 0.421 0.516 0.264 0.328 0.233 0.108 1.138 0.147 0.727\n",
      " 0.435 0.497 0.23  0.955 2.42  0.658 0.33  0.51  0.285 0.415 0.381 0.832\n",
      " 0.498 0.212 0.364 1.001 0.46  0.733 0.416 0.705 1.022 0.269 0.6   0.571\n",
      " 0.607 0.17  0.21  0.126 0.711 0.466 0.162 0.419 0.63  0.365 0.536 1.159\n",
      " 0.629 0.292 0.145 1.144 0.174 0.547 0.163 0.738 0.314 0.968 0.409 0.297\n",
      " 0.525 0.154 0.771 0.107 0.493 0.717 0.917 0.501 1.251 0.735 0.804 0.661\n",
      " 0.549 0.825 0.423 1.034 0.16  0.341 0.68  0.591 0.3   0.121 0.502 0.401\n",
      " 0.601 0.748 0.338 0.43  0.892 0.813 0.693 0.575 0.371 0.206 0.417 1.154\n",
      " 0.925 0.175 1.699 0.682 0.194 0.4   0.1   1.258 0.482 0.138 0.593 0.878\n",
      " 0.157 1.282 0.141 0.246 1.698 1.461 0.347 0.362 0.393 0.144 0.732 0.115\n",
      " 0.465 0.649 0.871 0.149 0.695 0.303 0.61  0.73  0.447 0.455 0.133 0.155\n",
      " 1.162 1.292 0.182 1.394 0.217 0.631 0.88  0.614 0.332 0.366 0.181 0.828\n",
      " 0.335 0.856 0.886 0.439 0.253 0.598 0.904 0.483 0.565 0.118 0.177 0.176\n",
      " 0.295 0.441 0.352 0.826 0.97  0.595 0.317 0.265 0.646 0.426 0.56  0.515\n",
      " 0.453 0.785 0.734 1.174 0.488 0.358 1.096 0.408 1.182 0.222 1.057 0.766\n",
      " 0.171]\n",
      "==================\n",
      "Age:[50 31 32 21 33 30 26 29 53 54 34 57 59 51 27 41 43 22 38 60 28 45 35 46\n",
      " 56 37 48 40 25 24 58 42 44 39 36 23 61 69 62 55 65 47 52 66 49 63 67 72\n",
      " 81 64 70 68]\n",
      "==================\n",
      "Outcome:[1 0]\n"
     ]
    }
   ],
   "source": [
    "categorical_val = []\n",
    "continuos_val = []\n",
    "for c in df.columns:\n",
    "    print(\"==================\")\n",
    "    print(f\"{c}:{df[c].unique()}\")\n",
    "    if len(df[c].unique()) <= 0:\n",
    "        categorical_val.append(c)\n",
    "    else:\n",
    "        continuos_val.append(c)"
   ]
  },
  {
   "cell_type": "code",
   "execution_count": 7,
   "id": "8b4077c1",
   "metadata": {},
   "outputs": [
    {
     "data": {
      "text/plain": [
       "Index(['Pregnancies', 'Glucose', 'BloodPressure', 'SkinThickness', 'Insulin',\n",
       "       'BMI', 'DiabetesPedigreeFunction', 'Age', 'Outcome'],\n",
       "      dtype='object')"
      ]
     },
     "execution_count": 7,
     "metadata": {},
     "output_type": "execute_result"
    }
   ],
   "source": [
    "df.columns"
   ]
  },
  {
   "cell_type": "code",
   "execution_count": 15,
   "id": "f09f30eb",
   "metadata": {},
   "outputs": [
    {
     "name": "stdout",
     "output_type": "stream",
     "text": [
      "===================\n",
      "Pregnancies ==> MISSING ZEROES: 0\n",
      "===================\n",
      "Glucose ==> MISSING ZEROES: 0\n",
      "===================\n",
      "BloodPressure ==> MISSING ZEROES: 0\n",
      "===================\n",
      "SkinThickness ==> MISSING ZEROES: 0\n",
      "===================\n",
      "Insulin ==> MISSING ZEROES: 0\n",
      "===================\n",
      "BMI ==> MISSING ZEROES: 0\n",
      "===================\n",
      "DiabetesPedigreeFunction ==> MISSING ZEROES: 0\n",
      "===================\n",
      "Age ==> MISSING ZEROES: 0\n"
     ]
    }
   ],
   "source": [
    "feature_columns = [\"Pregnancies\", \"Glucose\", \"BloodPressure\", \"SkinThickness\", \"Insulin\", \"BMI\", \"DiabetesPedigreeFunction\", \"Age\"]\n",
    "for c in feature_columns:\n",
    "    print(\"===================\")\n",
    "    print(f\"{c} ==> MISSING ZEROES: {len(df.loc[df[c] == 0])}\")"
   ]
  },
  {
   "cell_type": "code",
   "execution_count": 16,
   "id": "97b40170",
   "metadata": {},
   "outputs": [],
   "source": [
    "from sklearn.impute import SimpleImputer\n",
    "fill_values = SimpleImputer(missing_values = 0, strategy = \"mean\", copy = False)\n",
    "df[feature_columns] = fill_values.fit_transform(df[feature_columns])"
   ]
  },
  {
   "cell_type": "code",
   "execution_count": 17,
   "id": "560e3bc2",
   "metadata": {},
   "outputs": [
    {
     "name": "stdout",
     "output_type": "stream",
     "text": [
      "====================\n",
      "Pregnancies ==> Missing zeros : 0\n",
      "====================\n",
      "Glucose ==> Missing zeros : 0\n",
      "====================\n",
      "BloodPressure ==> Missing zeros : 0\n",
      "====================\n",
      "SkinThickness ==> Missing zeros : 0\n",
      "====================\n",
      "Insulin ==> Missing zeros : 0\n",
      "====================\n",
      "BMI ==> Missing zeros : 0\n",
      "====================\n",
      "DiabetesPedigreeFunction ==> Missing zeros : 0\n",
      "====================\n",
      "Age ==> Missing zeros : 0\n"
     ]
    }
   ],
   "source": [
    "for c in feature_columns:\n",
    "    print(\"====================\")\n",
    "    print(f\"{c} ==> Missing zeros : {len(df.loc[df[c] == 0])}\")"
   ]
  },
  {
   "cell_type": "code",
   "execution_count": 18,
   "id": "e4fc0bc5",
   "metadata": {},
   "outputs": [],
   "source": [
    "from sklearn.model_selection import train_test_split\n",
    "\n",
    "X = df[feature_columns]\n",
    "y = df.Outcome\n",
    "\n",
    "X_train, X_test, y_train, y_test = train_test_split(X,y,test_size = 0.33, random_state = 42)\n"
   ]
  },
  {
   "cell_type": "code",
   "execution_count": 19,
   "id": "762af6a2",
   "metadata": {},
   "outputs": [],
   "source": [
    "from sklearn.metrics import confusion_matrix, accuracy_score, classification_report\n",
    "\n",
    "def evaluate(model, X_train, X_test, y_train, y_test):\n",
    "    y_test_pred = model.predict(X_test)\n",
    "    y_train_pred = model.predict(X_train)\n",
    "    \n",
    "    print(\"TRAINING RESULTS:\\n=====================\")\n",
    "    clf_report = pd.DataFrame(classification_report(y_train, y_train_pred, output_dict = True))\n",
    "    print(\"CONFUSION MATIRX: \\n\",confusion_matrix(y_train, y_train_pred))\n",
    "    print(\"ACCURACY SCORE: \\n\",accuracy_score(y_train, y_train_pred))\n",
    "    print(\"CLASSIFICATION REPORT: \\n\",clf_report)\n",
    "    \n",
    "    print(\"TESTING RESULTS: \\n=====================\")\n",
    "    clf_report = pd.DataFrame(classification_report(y_train, y_train_pred, output_dict = True))\n",
    "    print(\"CONFUSION MATIRX: \\n\",confusion_matrix(y_train, y_train_pred))\n",
    "    print(f\"ACCURACY SCORE: \\n{accuracy_score(y_train, y_train_pred):.4f}\")\n",
    "    print(\"CLASSIFICATION REPORT: \\n\",clf_report)"
   ]
  },
  {
   "cell_type": "code",
   "execution_count": 20,
   "id": "8efd4d4c",
   "metadata": {},
   "outputs": [
    {
     "name": "stdout",
     "output_type": "stream",
     "text": [
      "TRAINING RESULTS:\n",
      "=====================\n",
      "CONFUSION MATIRX: \n",
      " [[332   0]\n",
      " [  0 182]]\n",
      "ACCURACY SCORE: \n",
      " 1.0\n",
      "CLASSIFICATION REPORT: \n",
      "                0      1  accuracy  macro avg  weighted avg\n",
      "precision   1.00   1.00      1.00       1.00          1.00\n",
      "recall      1.00   1.00      1.00       1.00          1.00\n",
      "f1-score    1.00   1.00      1.00       1.00          1.00\n",
      "support   332.00 182.00      1.00     514.00        514.00\n",
      "TESTING RESULTS: \n",
      "=====================\n",
      "CONFUSION MATIRX: \n",
      " [[332   0]\n",
      " [  0 182]]\n",
      "ACCURACY SCORE: \n",
      "1.0000\n",
      "CLASSIFICATION REPORT: \n",
      "                0      1  accuracy  macro avg  weighted avg\n",
      "precision   1.00   1.00      1.00       1.00          1.00\n",
      "recall      1.00   1.00      1.00       1.00          1.00\n",
      "f1-score    1.00   1.00      1.00       1.00          1.00\n",
      "support   332.00 182.00      1.00     514.00        514.00\n"
     ]
    }
   ],
   "source": [
    "#Bagging\n",
    "'''\n",
    "1. Bagged decision tress\n",
    "2. random forest\n",
    "3.\n",
    "\n",
    "We need to have a method estimator namely bagging classifiers that fits base classifiers on each random \n",
    "subsets of original dataset and aggregate their individual predictions to form the final prediction\n",
    "In general bagging performs best with algorithm that have high variance.\n",
    "\n",
    "By including the bagging classifier the context of randomization is applied to reduce variance\n",
    "\n",
    "\n",
    "'''\n",
    "\n",
    "from sklearn.ensemble import BaggingClassifier\n",
    "from sklearn.tree import DecisionTreeClassifier\n",
    "\n",
    "tree = DecisionTreeClassifier()\n",
    "bagging_clf = BaggingClassifier(base_estimator = tree, n_estimators = 1500, random_state = 42)\n",
    "bagging_clf.fit(X_train, y_train)\n",
    "\n",
    "evaluate(bagging_clf, X_train, X_test, y_train, y_test)"
   ]
  },
  {
   "cell_type": "code",
   "execution_count": 21,
   "id": "7b67b6ac",
   "metadata": {},
   "outputs": [],
   "source": [
    "scores = {\n",
    "    \"Bagging Claasifier\" : {\n",
    "        \"Train\" : accuracy_score(y_train, bagging_clf.predict(X_train)),\n",
    "        \"Test\" : accuracy_score(y_test, bagging_clf.predict(X_test))\n",
    "    }\n",
    "}\n"
   ]
  },
  {
   "cell_type": "code",
   "execution_count": 22,
   "id": "86d92a1d",
   "metadata": {},
   "outputs": [
    {
     "name": "stdout",
     "output_type": "stream",
     "text": [
      "TRAINING RESULTS:\n",
      "=====================\n",
      "CONFUSION MATIRX: \n",
      " [[332   0]\n",
      " [  0 182]]\n",
      "ACCURACY SCORE: \n",
      " 1.0\n",
      "CLASSIFICATION REPORT: \n",
      "                0      1  accuracy  macro avg  weighted avg\n",
      "precision   1.00   1.00      1.00       1.00          1.00\n",
      "recall      1.00   1.00      1.00       1.00          1.00\n",
      "f1-score    1.00   1.00      1.00       1.00          1.00\n",
      "support   332.00 182.00      1.00     514.00        514.00\n",
      "TESTING RESULTS: \n",
      "=====================\n",
      "CONFUSION MATIRX: \n",
      " [[332   0]\n",
      " [  0 182]]\n",
      "ACCURACY SCORE: \n",
      "1.0000\n",
      "CLASSIFICATION REPORT: \n",
      "                0      1  accuracy  macro avg  weighted avg\n",
      "precision   1.00   1.00      1.00       1.00          1.00\n",
      "recall      1.00   1.00      1.00       1.00          1.00\n",
      "f1-score    1.00   1.00      1.00       1.00          1.00\n",
      "support   332.00 182.00      1.00     514.00        514.00\n"
     ]
    }
   ],
   "source": [
    "from sklearn.ensemble import RandomForestClassifier \n",
    "rf_clf = RandomForestClassifier(random_state = 42, n_estimators = 1000)\n",
    "rf_clf.fit(X_train, y_train)\n",
    "evaluate(rf_clf, X_train, X_test, y_train, y_test)"
   ]
  },
  {
   "cell_type": "code",
   "execution_count": 23,
   "id": "93d55312",
   "metadata": {},
   "outputs": [
    {
     "name": "stdout",
     "output_type": "stream",
     "text": [
      "TRAINING RESULTS:\n",
      "=====================\n",
      "CONFUSION MATIRX: \n",
      " [[332   0]\n",
      " [  0 182]]\n",
      "ACCURACY SCORE: \n",
      " 1.0\n",
      "CLASSIFICATION REPORT: \n",
      "                0      1  accuracy  macro avg  weighted avg\n",
      "precision   1.00   1.00      1.00       1.00          1.00\n",
      "recall      1.00   1.00      1.00       1.00          1.00\n",
      "f1-score    1.00   1.00      1.00       1.00          1.00\n",
      "support   332.00 182.00      1.00     514.00        514.00\n",
      "TESTING RESULTS: \n",
      "=====================\n",
      "CONFUSION MATIRX: \n",
      " [[332   0]\n",
      " [  0 182]]\n",
      "ACCURACY SCORE: \n",
      "1.0000\n",
      "CLASSIFICATION REPORT: \n",
      "                0      1  accuracy  macro avg  weighted avg\n",
      "precision   1.00   1.00      1.00       1.00          1.00\n",
      "recall      1.00   1.00      1.00       1.00          1.00\n",
      "f1-score    1.00   1.00      1.00       1.00          1.00\n",
      "support   332.00 182.00      1.00     514.00        514.00\n"
     ]
    }
   ],
   "source": [
    "from sklearn.ensemble import ExtraTreesClassifier\n",
    "\n",
    "ex_tree_clf = ExtraTreesClassifier(n_estimators = 1000, max_features = 7, random_state = 42)\n",
    "ex_tree_clf.fit(X_train, y_train)\n",
    "evaluate(ex_tree_clf, X_train, X_test, y_train, y_test)"
   ]
  },
  {
   "cell_type": "code",
   "execution_count": 24,
   "id": "e7b6b530",
   "metadata": {},
   "outputs": [],
   "source": [
    "scores[\"Extra Tree\"] = {\n",
    "    \"Train\" : accuracy_score(y_train, ex_tree_clf.predict(X_train)),\n",
    "    \"Test\" : accuracy_score(y_test, ex_tree_clf.predict(X_test))\n",
    "}"
   ]
  },
  {
   "cell_type": "code",
   "execution_count": 25,
   "id": "becf109b",
   "metadata": {},
   "outputs": [
    {
     "data": {
      "text/plain": [
       "{'Bagging Claasifier': {'Train': 1.0, 'Test': 0.7519685039370079},\n",
       " 'Extra Tree': {'Train': 1.0, 'Test': 0.7598425196850394}}"
      ]
     },
     "execution_count": 25,
     "metadata": {},
     "output_type": "execute_result"
    }
   ],
   "source": [
    "scores"
   ]
  },
  {
   "cell_type": "code",
   "execution_count": 26,
   "id": "d2f7e8b2",
   "metadata": {},
   "outputs": [
    {
     "name": "stdout",
     "output_type": "stream",
     "text": [
      "TRAINING RESULTS:\n",
      "=====================\n",
      "CONFUSION MATIRX: \n",
      " [[297  35]\n",
      " [ 44 138]]\n",
      "ACCURACY SCORE: \n",
      " 0.8463035019455253\n",
      "CLASSIFICATION REPORT: \n",
      "                0      1  accuracy  macro avg  weighted avg\n",
      "precision   0.87   0.80      0.85       0.83          0.85\n",
      "recall      0.89   0.76      0.85       0.83          0.85\n",
      "f1-score    0.88   0.78      0.85       0.83          0.85\n",
      "support   332.00 182.00      0.85     514.00        514.00\n",
      "TESTING RESULTS: \n",
      "=====================\n",
      "CONFUSION MATIRX: \n",
      " [[297  35]\n",
      " [ 44 138]]\n",
      "ACCURACY SCORE: \n",
      "0.8463\n",
      "CLASSIFICATION REPORT: \n",
      "                0      1  accuracy  macro avg  weighted avg\n",
      "precision   0.87   0.80      0.85       0.83          0.85\n",
      "recall      0.89   0.76      0.85       0.83          0.85\n",
      "f1-score    0.88   0.78      0.85       0.83          0.85\n",
      "support   332.00 182.00      0.85     514.00        514.00\n"
     ]
    }
   ],
   "source": [
    "from sklearn.ensemble import AdaBoostClassifier\n",
    "ada_boost_clf = AdaBoostClassifier(n_estimators = 30)\n",
    "ada_boost_clf.fit(X_train, y_train)\n",
    "evaluate(ada_boost_clf, X_train, X_test, y_train, y_test)\n",
    "\n",
    "scores['AdaBoost'] = {\n",
    "    'Train' : accuracy_score(y_train, ada_boost_clf.predict(X_train)),\n",
    "    'Test' :accuracy_score(y_test, ada_boost_clf.predict(X_test))\n",
    "}"
   ]
  },
  {
   "cell_type": "code",
   "execution_count": 27,
   "id": "3dc2814a",
   "metadata": {},
   "outputs": [
    {
     "name": "stdout",
     "output_type": "stream",
     "text": [
      "TRAINING RESULTS:\n",
      "=====================\n",
      "CONFUSION MATIRX: \n",
      " [[312  20]\n",
      " [ 41 141]]\n",
      "ACCURACY SCORE: \n",
      " 0.8813229571984436\n",
      "CLASSIFICATION REPORT: \n",
      "                0      1  accuracy  macro avg  weighted avg\n",
      "precision   0.88   0.88      0.88       0.88          0.88\n",
      "recall      0.94   0.77      0.88       0.86          0.88\n",
      "f1-score    0.91   0.82      0.88       0.87          0.88\n",
      "support   332.00 182.00      0.88     514.00        514.00\n",
      "TESTING RESULTS: \n",
      "=====================\n",
      "CONFUSION MATIRX: \n",
      " [[312  20]\n",
      " [ 41 141]]\n",
      "ACCURACY SCORE: \n",
      "0.8813\n",
      "CLASSIFICATION REPORT: \n",
      "                0      1  accuracy  macro avg  weighted avg\n",
      "precision   0.88   0.88      0.88       0.88          0.88\n",
      "recall      0.94   0.77      0.88       0.86          0.88\n",
      "f1-score    0.91   0.82      0.88       0.87          0.88\n",
      "support   332.00 182.00      0.88     514.00        514.00\n"
     ]
    }
   ],
   "source": [
    "from sklearn.ensemble import GradientBoostingClassifier\n",
    "grad_boost_clf = GradientBoostingClassifier(n_estimators = 30)\n",
    "grad_boost_clf.fit(X_train, y_train)\n",
    "evaluate(grad_boost_clf, X_train, X_test, y_train, y_test)\n",
    "\n",
    "scores['GradBoost'] = {\n",
    "    'Train' : accuracy_score(y_train, grad_boost_clf.predict(X_train)),\n",
    "    'Test' :accuracy_score(y_test, grad_boost_clf.predict(X_test))\n",
    "}"
   ]
  },
  {
   "cell_type": "code",
   "execution_count": 28,
   "id": "f33fc383",
   "metadata": {},
   "outputs": [
    {
     "name": "stdout",
     "output_type": "stream",
     "text": [
      "TRAINING RESULTS:\n",
      "=====================\n",
      "CONFUSION MATIRX: \n",
      " [[310  22]\n",
      " [ 77 105]]\n",
      "ACCURACY SCORE: \n",
      " 0.8073929961089494\n",
      "CLASSIFICATION REPORT: \n",
      "                0      1  accuracy  macro avg  weighted avg\n",
      "precision   0.80   0.83      0.81       0.81          0.81\n",
      "recall      0.93   0.58      0.81       0.76          0.81\n",
      "f1-score    0.86   0.68      0.81       0.77          0.80\n",
      "support   332.00 182.00      0.81     514.00        514.00\n",
      "TESTING RESULTS: \n",
      "=====================\n",
      "CONFUSION MATIRX: \n",
      " [[310  22]\n",
      " [ 77 105]]\n",
      "ACCURACY SCORE: \n",
      "0.8074\n",
      "CLASSIFICATION REPORT: \n",
      "                0      1  accuracy  macro avg  weighted avg\n",
      "precision   0.80   0.83      0.81       0.81          0.81\n",
      "recall      0.93   0.58      0.81       0.76          0.81\n",
      "f1-score    0.86   0.68      0.81       0.77          0.80\n",
      "support   332.00 182.00      0.81     514.00        514.00\n"
     ]
    }
   ],
   "source": [
    "from sklearn.ensemble import VotingClassifier\n",
    "from sklearn.linear_model import LogisticRegression\n",
    "from sklearn.svm import SVC\n",
    "estimators_ = []\n",
    "log_reg = LogisticRegression(solver = 'liblinear')\n",
    "estimators_.append(('Logistic',log_reg))\n",
    "\n",
    "tree = DecisionTreeClassifier()\n",
    "estimators_.append(('Tree',tree))\n",
    "\n",
    "svm_clf = SVC(gamma = 'scale')\n",
    "estimators_.append(('SVM', svm_clf))\n",
    "\n",
    "voting = VotingClassifier(estimators = estimators_)\n",
    "voting.fit(X_train, y_train)\n",
    "evaluate(voting, X_train,X_test, y_train, y_test)\n",
    "\n",
    "scores['Voting'] = {\n",
    "    'Train' : accuracy_score(y_train, voting.predict(X_train)),\n",
    "    'Test' :accuracy_score(y_test, voting.predict(X_test))\n",
    "}"
   ]
  },
  {
   "cell_type": "code",
   "execution_count": 29,
   "id": "6f0fa300",
   "metadata": {},
   "outputs": [
    {
     "data": {
      "text/plain": [
       "<AxesSubplot:>"
      ]
     },
     "execution_count": 29,
     "metadata": {},
     "output_type": "execute_result"
    },
    {
     "data": {
      "image/png": "[encoded data removed]",
      "text/plain": [
       "<Figure size 1080x576 with 1 Axes>"
      ]
     },
     "metadata": {},
     "output_type": "display_data"
    }
   ],
   "source": [
    "scores_df = pd.DataFrame(scores)\n",
    "\n",
    "scores_df.plot(kind = 'bar', figsize = (15,8))"
   ]
  },
  {
   "cell_type": "code",
   "execution_count": null,
   "id": "48d62391",
   "metadata": {},
   "outputs": [],
   "source": []
  }
 ],
 "metadata": {
  "kernelspec": {
   "display_name": "Python 3 (ipykernel)",
   "language": "python",
   "name": "python3"
  },
  "language_info": {
   "codemirror_mode": {
    "name": "ipython",
    "version": 3
   },
   "file_extension": ".py",
   "mimetype": "text/x-python",
   "name": "python",
   "nbconvert_exporter": "python",
   "pygments_lexer": "ipython3",
   "version": "3.10.4"
  }
 },
 "nbformat": 4,
 "nbformat_minor": 5
}
